{
 "cells": [
  {
   "cell_type": "markdown",
   "metadata": {},
   "source": [
    "- 参考文献\n",
    "- Compressed sensing for image reconstruction via back-off and rectiﬁcation of greedy algorithm \n",
    "- Signal Processing 157 (2019) 280–287 "
   ]
  },
  {
   "cell_type": "code",
   "execution_count": 1,
   "metadata": {},
   "outputs": [],
   "source": [
    "import numpy as np\n",
    "import math"
   ]
  },
  {
   "cell_type": "code",
   "execution_count": 2,
   "metadata": {},
   "outputs": [],
   "source": [
    "def cs_sp(y,Phi,K):    \n",
    "    residual=y  #初始化残差\n",
    "    (M,N) = Phi.shape\n",
    "    index = np.array([])\n",
    "    result=np.zeros((N,1))\n",
    "    for j in range(K):  #迭代次数\n",
    "        product=np.fabs(np.dot(Phi.T,residual))         # 计算投影\n",
    "        top_k_idx = product.argsort(axis=0)[-K:]        # 取最大的K个的序号\n",
    "        index = np.union1d(index,top_k_idx).astype(int) # 更新候选集\n",
    "        x = np.zeros((N,1))                             # 算一部分x\n",
    "        x_temp = np.dot(np.linalg.pinv(Phi[:,index]),y) # 最小二乘  \n",
    "        x[index] = x_temp                               # 放回去\n",
    "        index = np.fabs(x).argsort(axis=0)[-K:]         # 取最大的K个的序号\n",
    "        residual=y-np.dot(Phi,x)                        # 更新残差    \n",
    "        index = np.reshape(index,(K))\n",
    "    return  x, index"
   ]
  },
  {
   "cell_type": "code",
   "execution_count": 3,
   "metadata": {},
   "outputs": [],
   "source": [
    "def cs_omp(y,Phi,K):    \n",
    "    residual=y  #初始化残差\n",
    "    (M,N) = Phi.shape\n",
    "    index=np.zeros(N,dtype=int)\n",
    "    for i in range(N): #第i列被选中就是1，未选中就是-1\n",
    "        index[i]= -1\n",
    "    result=np.zeros((N,1))\n",
    "    for j in range(K):  #迭代次数\n",
    "        product=np.fabs(np.dot(Phi.T,residual))\n",
    "        pos=np.argmax(product)  #最大投影系数对应的位置        \n",
    "        index[pos]=1 #对应的位置取1\n",
    "        my=np.linalg.pinv(Phi[:,index>=0]) #最小二乘          \n",
    "        a=np.dot(my,y) #最小二乘,看参考文献1  \n",
    "        residual=y-np.dot(Phi[:,index>=0],a)\n",
    "    result[index>=0]=a\n",
    "    Candidate = np.where(index>=0) #返回所有选中的列\n",
    "    return  result, Candidate"
   ]
  },
  {
   "cell_type": "code",
   "execution_count": 4,
   "metadata": {},
   "outputs": [],
   "source": [
    "def cs_BRGP(y, Phi, K, Candidate): \n",
    "    u = 0.8\n",
    "    (M,N) = Phi.shape\n",
    "    \n",
    "    x = np.zeros((N,1))                            \n",
    "    x_temp = np.dot(np.linalg.pinv(Phi[:,Candidate]),y) # 求投影\n",
    "    x[Candidate] = x_temp\n",
    "    r = y - np.dot(Phi,x)\n",
    "    Candidate_save = Candidate\n",
    "    r_save = r\n",
    "\n",
    "    temp = np.abs(np.dot(Phi.T,r)) # 以最大值的u倍作为加入条件\n",
    "    max_value = max(temp)\n",
    "    F = np.where(temp>max_value*u)\n",
    "    Candidate = np.union1d(Candidate,F).astype(int)\n",
    "    x = np.zeros((N,1))                            \n",
    "    x_temp = np.dot(np.linalg.pinv(Phi[:,Candidate]),y)\n",
    "    x[Candidate] = x_temp\n",
    "    r = y - np.dot(Phi,x)\n",
    "    \n",
    "    while len(Candidate)<K:\n",
    "        dis = np.linalg.norm(r-r_save) # 判断是否发生回退\n",
    "        if dis < np.linalg.norm(y):\n",
    "            Candidate_save = Candidate\n",
    "            r_save = r \n",
    "            temp = np.abs(np.dot(Phi.T,r))\n",
    "            max_value = max(temp)\n",
    "            F = np.where(temp>max_value*u)\n",
    "            Candidate = np.union1d(Candidate,F).astype(int)\n",
    "        else:\n",
    "#             print('back off')\n",
    "            Candidate = Candidate_save\n",
    "            r = r_save\n",
    "            Candidate_dif = np.setdiff1d(np.arange(0,K-1,K),Candidate)                            \n",
    "            temp = np.dot(np.linalg.pinv(Phi[:,Candidate_dif]),y)\n",
    "            F = np.where(temp==max(temp))\n",
    "            Candidate = np.union1d(Candidate,F).astype(int)\n",
    "        x = np.zeros((N,1))                            \n",
    "        x_temp = np.dot(np.linalg.pinv(Phi[:,Candidate]),y)\n",
    "        x[Candidate] = x_temp\n",
    "        r = y - np.dot(Phi,x)\n",
    "\n",
    "    T = K\n",
    "    while T>0:  \n",
    "        product=np.fabs(np.dot(Phi.T,r))                        # 计算投影\n",
    "        top_t_idx = product.argsort(axis=0)[-T:]                # 取最大的K个的序号\n",
    "        Candidate = np.union1d(Candidate,top_t_idx).astype(int) # 更新候选集\n",
    "        \n",
    "        x_temp = np.dot(np.linalg.pinv(Phi[:,Candidate]),y)     # 最小二乘  \n",
    "        index = np.fabs(x_temp).argsort(axis=0)[-K:]\n",
    "        x_temp = x_temp[index]\n",
    "        Candidate = Candidate[index]\n",
    "        \n",
    "        x = np.zeros((N,1)) \n",
    "        x[Candidate] = x_temp\n",
    "        r=y-np.dot(Phi,x)                                       # 更新残差                      \n",
    "        T = T*0.8\n",
    "        T = np.floor(T).astype(int)\n",
    "    return x\n",
    "    "
   ]
  },
  {
   "cell_type": "code",
   "execution_count": 5,
   "metadata": {},
   "outputs": [
    {
     "name": "stdout",
     "output_type": "stream",
     "text": [
      "2.775024790245415e-15\n"
     ]
    }
   ],
   "source": [
    "# 单次实验\n",
    "N = 256\n",
    "M = 128\n",
    "K = 40\n",
    "# 生成稀疏信号（高斯）\n",
    "x = np.random.randn(N,1)\n",
    "x[:N-K]=0\n",
    "np.random.shuffle(x)\n",
    "# 生成高斯随机测量矩阵\n",
    "Phi=np.random.randn(M,N)/np.sqrt(M)\n",
    "# 观测信号\n",
    "y = np.dot(Phi,x)\n",
    "x_pre, Candidate_omp = cs_omp(y,Phi,K)\n",
    "# print(Candidate_omp)\n",
    "error = np.linalg.norm(x-x_pre)/np.linalg.norm(x)\n",
    "# print(error)\n",
    "x_pre, Candidate_sp = cs_sp(y,Phi,K)\n",
    "# print(Candidate_sp)\n",
    "error = np.linalg.norm(x-x_pre)/np.linalg.norm(x)\n",
    "# print(error)\n",
    "Candidate_BRGP = np.intersect1d(Candidate_omp, Candidate_sp)\n",
    "x_pre = cs_BRGP(y,Phi,K, Candidate_BRGP)\n",
    "error = np.linalg.norm(x-x_pre)/np.linalg.norm(x)\n",
    "print(error)"
   ]
  },
  {
   "cell_type": "code",
   "execution_count": null,
   "metadata": {},
   "outputs": [
    {
     "name": "stdout",
     "output_type": "stream",
     "text": [
      "10\n",
      "20\n"
     ]
    }
   ],
   "source": [
    "# 不同稀疏度下的重建概率\n",
    "N = 256\n",
    "M = 128\n",
    "kk = np.linspace(1,60,60,dtype=np.int)\n",
    "success_rate_sp = np.zeros(60)\n",
    "success_rate_omp = np.zeros(60)\n",
    "success_rate_BRGP = np.zeros(60)\n",
    "\n",
    "success_rate_sp[0] = 1\n",
    "success_rate_omp[0] = 1\n",
    "success_rate_BRGP[0] = 1\n",
    "\n",
    "repeat = 500 \n",
    "for k in kk:\n",
    "    if k%10==0:\n",
    "        print(k)\n",
    "    for i in range(repeat):\n",
    "        x = np.random.randn(N,1)\n",
    "        x[:N-k]=0\n",
    "        np.random.shuffle(x)\n",
    "        Phi=np.random.randn(M,N)/np.sqrt(M)\n",
    "        y = np.dot(Phi,x)\n",
    "        x_pre, Candidate_sp = cs_sp(y,Phi,k)\n",
    "        error = np.linalg.norm(x-x_pre)/np.linalg.norm(x)\n",
    "        if error < 1e-4:\n",
    "            success_rate_sp[k-1]+=1\n",
    "            \n",
    "        x_pre, Candidate_omp = cs_omp(y,Phi,k)\n",
    "        error = np.linalg.norm(x-x_pre)/np.linalg.norm(x)\n",
    "        if error < 1e-4:\n",
    "            success_rate_omp[k-1]+=1\n",
    "            \n",
    "        Candidate_BRGP = np.intersect1d(Candidate_omp, Candidate_sp)\n",
    "        x_pre= cs_BRGP(y,Phi,k,Candidate_BRGP)\n",
    "        error = np.linalg.norm(x-x_pre)/np.linalg.norm(x)\n",
    "        if error < 1e-4:\n",
    "            success_rate_BRGP[k-1]+=1\n",
    "        \n",
    "    success_rate_sp[k-1]/=repeat\n",
    "    success_rate_omp[k-1]/=repeat\n",
    "    success_rate_BRGP[k-1]/=repeat"
   ]
  },
  {
   "cell_type": "code",
   "execution_count": 7,
   "metadata": {},
   "outputs": [
    {
     "data": {
      "image/png": "[encoded data removed]",
      "text/plain": [
       "<Figure size 432x288 with 1 Axes>"
      ]
     },
     "metadata": {
      "needs_background": "light"
     },
     "output_type": "display_data"
    }
   ],
   "source": [
    "import matplotlib.pyplot as plt\n",
    "%matplotlib inline\n",
    "plt.plot(kk,success_rate_sp,label='SP')\n",
    "plt.plot(kk,success_rate_omp,label='OMP')\n",
    "plt.plot(kk,success_rate_BRGP,label='BRGP')\n",
    "plt.xlabel('Sparsity')\n",
    "plt.ylabel('Successful reconstruction rate')\n",
    "plt.legend()\n",
    "plt.savefig('BRGP')\n",
    "plt.show()"
   ]
  },
  {
   "cell_type": "code",
   "execution_count": null,
   "metadata": {},
   "outputs": [],
   "source": []
  }
 ],
 "metadata": {
  "kernelspec": {
   "display_name": "Python 3",
   "language": "python",
   "name": "python3"
  },
  "language_info": {
   "codemirror_mode": {
    "name": "ipython",
    "version": 3
   },
   "file_extension": ".py",
   "mimetype": "text/x-python",
   "name": "python",
   "nbconvert_exporter": "python",
   "pygments_lexer": "ipython3",
   "version": "3.7.4"
  }
 },
 "nbformat": 4,
 "nbformat_minor": 4
}
